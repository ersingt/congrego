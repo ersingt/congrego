{
 "cells": [
  {
   "cell_type": "markdown",
   "metadata": {},
   "source": [
    "# Congrego"
   ]
  },
  {
   "cell_type": "code",
   "execution_count": 7,
   "metadata": {},
   "outputs": [
    {
     "name": "stdout",
     "output_type": "stream",
     "text": [
      "Collecting geopandas\n",
      "  Using cached geopandas-0.7.0-py2.py3-none-any.whl (928 kB)\n",
      "Collecting shapely\n",
      "  Using cached Shapely-1.7.0-cp37-cp37m-macosx_10_9_x86_64.whl (1.6 MB)\n",
      "Collecting pyproj>=2.2.0\n",
      "  Using cached pyproj-2.6.1.post1-cp37-cp37m-macosx_10_9_x86_64.whl (13.0 MB)\n",
      "Requirement already satisfied: pandas>=0.23.0 in /Users/ericschultz/opt/anaconda3/envs/octavian/lib/python3.7/site-packages (from geopandas) (1.0.3)\n",
      "Collecting fiona\n",
      "  Using cached Fiona-1.8.13.post1-cp37-cp37m-macosx_10_9_x86_64.whl (13.9 MB)\n",
      "Requirement already satisfied: numpy>=1.13.3 in /Users/ericschultz/opt/anaconda3/envs/octavian/lib/python3.7/site-packages (from pandas>=0.23.0->geopandas) (1.18.1)\n",
      "Requirement already satisfied: python-dateutil>=2.6.1 in /Users/ericschultz/opt/anaconda3/envs/octavian/lib/python3.7/site-packages (from pandas>=0.23.0->geopandas) (2.8.1)\n",
      "Requirement already satisfied: pytz>=2017.2 in /Users/ericschultz/opt/anaconda3/envs/octavian/lib/python3.7/site-packages (from pandas>=0.23.0->geopandas) (2020.1)\n",
      "Collecting cligj>=0.5\n",
      "  Using cached cligj-0.5.0-py3-none-any.whl (5.7 kB)\n",
      "Collecting click-plugins>=1.0\n",
      "  Using cached click_plugins-1.1.1-py2.py3-none-any.whl (7.5 kB)\n",
      "Requirement already satisfied: six>=1.7 in /Users/ericschultz/opt/anaconda3/envs/octavian/lib/python3.7/site-packages (from fiona->geopandas) (1.14.0)\n",
      "Requirement already satisfied: click<8,>=4.0 in /Users/ericschultz/opt/anaconda3/envs/octavian/lib/python3.7/site-packages (from fiona->geopandas) (7.1.2)\n",
      "Collecting munch\n",
      "  Using cached munch-2.5.0-py2.py3-none-any.whl (10 kB)\n",
      "Requirement already satisfied: attrs>=17 in /Users/ericschultz/opt/anaconda3/envs/octavian/lib/python3.7/site-packages (from fiona->geopandas) (19.3.0)\n",
      "Installing collected packages: shapely, pyproj, cligj, click-plugins, munch, fiona, geopandas\n",
      "Successfully installed click-plugins-1.1.1 cligj-0.5.0 fiona-1.8.13.post1 geopandas-0.7.0 munch-2.5.0 pyproj-2.6.1.post1 shapely-1.7.0\n"
     ]
    }
   ],
   "source": [
    "# Import Libraries:\n",
    "\n",
    "import pandas as pd\n",
    "import matplotlib.pyplot as plt\n",
    "import seaborn as sns\n",
    "import geopandas as gpd"
   ]
  },
  {
   "cell_type": "code",
   "execution_count": 19,
   "metadata": {},
   "outputs": [
    {
     "data": {
      "text/html": [
       "<div>\n",
       "<style scoped>\n",
       "    .dataframe tbody tr th:only-of-type {\n",
       "        vertical-align: middle;\n",
       "    }\n",
       "\n",
       "    .dataframe tbody tr th {\n",
       "        vertical-align: top;\n",
       "    }\n",
       "\n",
       "    .dataframe thead th {\n",
       "        text-align: right;\n",
       "    }\n",
       "</style>\n",
       "<table border=\"1\" class=\"dataframe\">\n",
       "  <thead>\n",
       "    <tr style=\"text-align: right;\">\n",
       "      <th></th>\n",
       "      <th>OBJECTID</th>\n",
       "      <th>ROUTEID</th>\n",
       "      <th>FROMMEASUR</th>\n",
       "      <th>TOMEASURE</th>\n",
       "      <th>FROMDATE</th>\n",
       "      <th>TODATE</th>\n",
       "      <th>EVENTID</th>\n",
       "      <th>AADT</th>\n",
       "      <th>AADT_YEAR</th>\n",
       "      <th>LOCERROR</th>\n",
       "      <th>SHAPELEN</th>\n",
       "      <th>geometry</th>\n",
       "    </tr>\n",
       "  </thead>\n",
       "  <tbody>\n",
       "    <tr>\n",
       "      <th>0</th>\n",
       "      <td>40</td>\n",
       "      <td>11000102</td>\n",
       "      <td>2710.132</td>\n",
       "      <td>2772.071</td>\n",
       "      <td>2017-01-01</td>\n",
       "      <td>1970-01-01</td>\n",
       "      <td>{4979DA7C-9DB1-4D47-B2FB-D80C0CC91D1B}</td>\n",
       "      <td>6728</td>\n",
       "      <td>2017</td>\n",
       "      <td>NO ERROR</td>\n",
       "      <td>61.938996</td>\n",
       "      <td>LINESTRING Z (-77.01216 38.91573 0.00000, -77....</td>\n",
       "    </tr>\n",
       "    <tr>\n",
       "      <th>1</th>\n",
       "      <td>41</td>\n",
       "      <td>11000102</td>\n",
       "      <td>2772.071</td>\n",
       "      <td>2851.602</td>\n",
       "      <td>2017-01-01</td>\n",
       "      <td>1970-01-01</td>\n",
       "      <td>{02C04032-61AA-4ABD-B130-BA969F184C68}</td>\n",
       "      <td>6728</td>\n",
       "      <td>2017</td>\n",
       "      <td>NO ERROR</td>\n",
       "      <td>79.531672</td>\n",
       "      <td>LINESTRING Z (-77.01216 38.91629 0.00000, -77....</td>\n",
       "    </tr>\n",
       "  </tbody>\n",
       "</table>\n",
       "</div>"
      ],
      "text/plain": [
       "   OBJECTID   ROUTEID  FROMMEASUR  TOMEASURE    FROMDATE      TODATE  \\\n",
       "0        40  11000102    2710.132   2772.071  2017-01-01  1970-01-01   \n",
       "1        41  11000102    2772.071   2851.602  2017-01-01  1970-01-01   \n",
       "\n",
       "                                  EVENTID  AADT  AADT_YEAR  LOCERROR  \\\n",
       "0  {4979DA7C-9DB1-4D47-B2FB-D80C0CC91D1B}  6728       2017  NO ERROR   \n",
       "1  {02C04032-61AA-4ABD-B130-BA969F184C68}  6728       2017  NO ERROR   \n",
       "\n",
       "    SHAPELEN                                           geometry  \n",
       "0  61.938996  LINESTRING Z (-77.01216 38.91573 0.00000, -77....  \n",
       "1  79.531672  LINESTRING Z (-77.01216 38.91629 0.00000, -77....  "
      ]
     },
     "execution_count": 19,
     "metadata": {},
     "output_type": "execute_result"
    }
   ],
   "source": [
    "# Read shapefile dbf as df:\n",
    "\n",
    "vol2017 = gpd.read_file('./traffic_data/2017_Traffic_Volume-shp/2017_Traffic_Volume.dbf')\n",
    "vol2017.head(2)"
   ]
  },
  {
   "cell_type": "code",
   "execution_count": 20,
   "metadata": {},
   "outputs": [
    {
     "data": {
      "text/html": [
       "<div>\n",
       "<style scoped>\n",
       "    .dataframe tbody tr th:only-of-type {\n",
       "        vertical-align: middle;\n",
       "    }\n",
       "\n",
       "    .dataframe tbody tr th {\n",
       "        vertical-align: top;\n",
       "    }\n",
       "\n",
       "    .dataframe thead th {\n",
       "        text-align: right;\n",
       "    }\n",
       "</style>\n",
       "<table border=\"1\" class=\"dataframe\">\n",
       "  <thead>\n",
       "    <tr style=\"text-align: right;\">\n",
       "      <th></th>\n",
       "      <th>OBJECTID</th>\n",
       "      <th>ROADWAYSEG</th>\n",
       "      <th>STREETSEGI</th>\n",
       "      <th>STREETID</th>\n",
       "      <th>SOURCEID</th>\n",
       "      <th>ROADTYPE</th>\n",
       "      <th>STCODE</th>\n",
       "      <th>STTYPEID</th>\n",
       "      <th>QUADCODE</th>\n",
       "      <th>ST_NAME</th>\n",
       "      <th>...</th>\n",
       "      <th>TOLEFTTHEO</th>\n",
       "      <th>FROMRIGHTT</th>\n",
       "      <th>TORIGHTTHE</th>\n",
       "      <th>LIFECYCLES</th>\n",
       "      <th>INSERVICED</th>\n",
       "      <th>OUTOFSERVI</th>\n",
       "      <th>UPDATETIME</th>\n",
       "      <th>OBJECTID_1</th>\n",
       "      <th>SHAPELEN</th>\n",
       "      <th>geometry</th>\n",
       "    </tr>\n",
       "  </thead>\n",
       "  <tbody>\n",
       "    <tr>\n",
       "      <th>0</th>\n",
       "      <td>6324291</td>\n",
       "      <td>15</td>\n",
       "      <td>14.0</td>\n",
       "      <td>104816.0</td>\n",
       "      <td>14816050</td>\n",
       "      <td>Street</td>\n",
       "      <td>04816</td>\n",
       "      <td>4.0</td>\n",
       "      <td>1</td>\n",
       "      <td>Indiana Ave</td>\n",
       "      <td>...</td>\n",
       "      <td>598.0</td>\n",
       "      <td>463.0</td>\n",
       "      <td>599.0</td>\n",
       "      <td>Active</td>\n",
       "      <td>2004-08-27</td>\n",
       "      <td>None</td>\n",
       "      <td>2004-12-14</td>\n",
       "      <td>0</td>\n",
       "      <td>98.204053</td>\n",
       "      <td>LINESTRING (-77.01894 38.89481, -77.01901 38.8...</td>\n",
       "    </tr>\n",
       "    <tr>\n",
       "      <th>1</th>\n",
       "      <td>6324292</td>\n",
       "      <td>1809</td>\n",
       "      <td>12108.0</td>\n",
       "      <td>100120.0</td>\n",
       "      <td>10120010</td>\n",
       "      <td>Street</td>\n",
       "      <td>00120</td>\n",
       "      <td>139.0</td>\n",
       "      <td>1</td>\n",
       "      <td>12th St</td>\n",
       "      <td>...</td>\n",
       "      <td>298.0</td>\n",
       "      <td>101.0</td>\n",
       "      <td>299.0</td>\n",
       "      <td>Active</td>\n",
       "      <td>2004-08-27</td>\n",
       "      <td>None</td>\n",
       "      <td>2004-12-14</td>\n",
       "      <td>0</td>\n",
       "      <td>134.541076</td>\n",
       "      <td>LINESTRING (-77.02819 38.89047, -77.02819 38.8...</td>\n",
       "    </tr>\n",
       "  </tbody>\n",
       "</table>\n",
       "<p>2 rows × 37 columns</p>\n",
       "</div>"
      ],
      "text/plain": [
       "   OBJECTID  ROADWAYSEG  STREETSEGI  STREETID  SOURCEID ROADTYPE STCODE  \\\n",
       "0   6324291          15        14.0  104816.0  14816050   Street  04816   \n",
       "1   6324292        1809     12108.0  100120.0  10120010   Street  00120   \n",
       "\n",
       "   STTYPEID  QUADCODE      ST_NAME  ... TOLEFTTHEO FROMRIGHTT TORIGHTTHE  \\\n",
       "0       4.0         1  Indiana Ave  ...      598.0      463.0      599.0   \n",
       "1     139.0         1      12th St  ...      298.0      101.0      299.0   \n",
       "\n",
       "  LIFECYCLES  INSERVICED OUTOFSERVI  UPDATETIME OBJECTID_1    SHAPELEN  \\\n",
       "0     Active  2004-08-27       None  2004-12-14          0   98.204053   \n",
       "1     Active  2004-08-27       None  2004-12-14          0  134.541076   \n",
       "\n",
       "                                            geometry  \n",
       "0  LINESTRING (-77.01894 38.89481, -77.01901 38.8...  \n",
       "1  LINESTRING (-77.02819 38.89047, -77.02819 38.8...  \n",
       "\n",
       "[2 rows x 37 columns]"
      ]
     },
     "execution_count": 20,
     "metadata": {},
     "output_type": "execute_result"
    }
   ],
   "source": [
    "# Import Center Lines Data:\n",
    "\n",
    "centerlines = gpd.read_file('./traffic_data/Street_Centerlines-shp/Street_Centerlines.dbf')\n",
    "centerlines.head(2)"
   ]
  },
  {
   "cell_type": "code",
   "execution_count": 21,
   "metadata": {},
   "outputs": [
    {
     "data": {
      "image/png": "[encoded data removed]",
      "text/plain": [
       "<Figure size 432x288 with 1 Axes>"
      ]
     },
     "metadata": {
      "needs_background": "light"
     },
     "output_type": "display_data"
    }
   ],
   "source": [
    "vol2017['AADT'].hist();"
   ]
  },
  {
   "cell_type": "code",
   "execution_count": 15,
   "metadata": {},
   "outputs": [
    {
     "data": {
      "text/plain": [
       "Local                           13800\n",
       "Minor Arterial                   3164\n",
       "Collector                        3085\n",
       "Principal Arterial               1750\n",
       "Interstate                         90\n",
       "Other Freeway and Expressway       89\n",
       "Name: FUNCTIONAL, dtype: int64"
      ]
     },
     "execution_count": 15,
     "metadata": {},
     "output_type": "execute_result"
    }
   ],
   "source": [
    "centerlines['FUNCTIONAL'].value_counts()"
   ]
  },
  {
   "cell_type": "code",
   "execution_count": 22,
   "metadata": {},
   "outputs": [
    {
     "data": {
      "text/plain": [
       "<matplotlib.axes._subplots.AxesSubplot at 0x1a245806d0>"
      ]
     },
     "execution_count": 22,
     "metadata": {},
     "output_type": "execute_result"
    },
    {
     "data": {
      "image/png": "[encoded data removed]",
      "text/plain": [
       "<Figure size 432x288 with 1 Axes>"
      ]
     },
     "metadata": {
      "needs_background": "light"
     },
     "output_type": "display_data"
    }
   ],
   "source": [
    "centerlines['FUNCTIONAL'].hist()"
   ]
  },
  {
   "cell_type": "code",
   "execution_count": null,
   "metadata": {},
   "outputs": [],
   "source": [
    "|"
   ]
  }
 ],
 "metadata": {
  "kernelspec": {
   "display_name": "Python 3",
   "language": "python",
   "name": "python3"
  },
  "language_info": {
   "codemirror_mode": {
    "name": "ipython",
    "version": 3
   },
   "file_extension": ".py",
   "mimetype": "text/x-python",
   "name": "python",
   "nbconvert_exporter": "python",
   "pygments_lexer": "ipython3",
   "version": "3.7.7"
  }
 },
 "nbformat": 4,
 "nbformat_minor": 4
}
